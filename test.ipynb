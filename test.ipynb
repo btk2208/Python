{
 "cells": [
  {
   "cell_type": "code",
   "execution_count": 1,
   "metadata": {},
   "outputs": [
    {
     "name": "stdout",
     "output_type": "stream",
     "text": [
      "abcabbcd\n",
      "5\n"
     ]
    }
   ],
   "source": [
    "def maxdist(s):\n",
    "    k=len(s)\n",
    "    if k==0 or k==1:\n",
    "        print(k)\n",
    "    maxchar=count(s)\n",
    "    minimum=k+1\n",
    "    a={}\n",
    "    start=0\n",
    "    a[s[start]]=1\n",
    "    for i in range(1,k):\n",
    "        if s[i] in a:\n",
    "            a[s[i]]+=1\n",
    "        else:\n",
    "            a[s[i]]=1\n",
    "        if len(a)==maxchar:\n",
    "            while start<i and a[s[start]]>1:\n",
    "                a[s[start]]-=1\n",
    "                start+=1\n",
    "            if minimum>i+1-start:\n",
    "                minimum=i+1-start\n",
    "    print(minimum)\n",
    " \n",
    "    \n",
    "def count(s):\n",
    "    p={}\n",
    "    for i in s:\n",
    "        if i in p:\n",
    "            p[i]+=1\n",
    "        else:\n",
    "            p[i]=1\n",
    "    return len(p)\n",
    "    \n",
    "s=str(input())\n",
    "maxdist(s)"
   ]
  },
  {
   "cell_type": "code",
   "execution_count": null,
   "metadata": {},
   "outputs": [],
   "source": []
  }
 ],
 "metadata": {
  "kernelspec": {
   "display_name": "Python 3",
   "language": "python",
   "name": "python3"
  },
  "language_info": {
   "codemirror_mode": {
    "name": "ipython",
    "version": 3
   },
   "file_extension": ".py",
   "mimetype": "text/x-python",
   "name": "python",
   "nbconvert_exporter": "python",
   "pygments_lexer": "ipython3",
   "version": "3.8.3"
  }
 },
 "nbformat": 4,
 "nbformat_minor": 4
}
